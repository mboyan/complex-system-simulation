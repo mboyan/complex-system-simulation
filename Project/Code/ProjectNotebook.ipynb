{
 "cells": [
  {
   "cell_type": "markdown",
   "metadata": {},
   "source": [
    "# Complex System Simulation: Corals and Flows\n",
    "#### _Group 12: Esther Bakels (12362980), Loes Bijman (15211312), Aleksandar Jacimovic (), Boyan Mihaylov (15067602)_"
   ]
  },
  {
   "cell_type": "markdown",
   "metadata": {},
   "source": [
    "## 1. Imports / Preliminaries"
   ]
  },
  {
   "cell_type": "code",
   "execution_count": 1,
   "metadata": {},
   "outputs": [],
   "source": [
    "import matplotlib.pyplot as plt\n",
    "import numpy as np\n",
    "\n",
    "import vis_tools as vt\n",
    "import dla_model as dm\n",
    "from importlib import reload"
   ]
  },
  {
   "cell_type": "markdown",
   "metadata": {},
   "source": [
    "## 2. Flow Functions"
   ]
  },
  {
   "cell_type": "code",
   "execution_count": 21,
   "metadata": {},
   "outputs": [
    {
     "data": {
      "text/plain": [
       "<module 'dla_model' from '/Users/loesbijman/Documents/GitHub/complex-system-simulation/Project/Code/dla_model.py'>"
      ]
     },
     "execution_count": 21,
     "metadata": {},
     "output_type": "execute_result"
    }
   ],
   "source": [
    "# Reload modules\n",
    "reload(vt)\n",
    "reload(dm)"
   ]
  },
  {
   "cell_type": "code",
   "execution_count": 22,
   "metadata": {},
   "outputs": [
    {
     "name": "stdout",
     "output_type": "stream",
     "text": [
      "[(0, 1), (0, -1), (-1, 0), (-1, 1), (-1, -1)]\n",
      "[(0, 1), (0, -1), (-1, 0), (-1, 1), (-1, -1)]\n",
      "[(0, 1), (0, -1), (-1, 0), (-1, 1), (-1, -1)]\n",
      "[(0, 1), (0, -1), (-1, 0), (-1, 1), (-1, -1)]\n",
      "[(0, 1), (0, -1), (-1, 0), (-1, 1), (-1, -1)]\n",
      "[(0, 1), (0, -1), (-1, 0), (-1, 1), (-1, -1)]\n",
      "[(0, 1), (0, -1), (-1, 0), (-1, 1), (-1, -1)]\n",
      "[(0, 1), (0, -1), (-1, 0), (-1, 1), (-1, -1)]\n",
      "[(0, 1), (0, -1), (-1, 0), (-1, 1), (-1, -1)]\n",
      "[(0, 1), (0, -1), (-1, 0), (-1, 1), (-1, -1)]\n"
     ]
    },
    {
     "data": {
      "text/html": [
       "<video width=\"640\" height=\"480\" controls autoplay loop>\n",
       "  <source type=\"video/mp4\" src=\"data:video/mp4;base64,AAAAIGZ0eXBNNFYgAAACAE00ViBpc29taXNvMmF2YzEAAAAIZnJlZQAACV9tZGF0AAACrgYF//+q\n",
       "3EXpvebZSLeWLNgg2SPu73gyNjQgLSBjb3JlIDE2NCByMzA5NSBiYWVlNDAwIC0gSC4yNjQvTVBF\n",
       "Ry00IEFWQyBjb2RlYyAtIENvcHlsZWZ0IDIwMDMtMjAyMiAtIGh0dHA6Ly93d3cudmlkZW9sYW4u\n",
       "b3JnL3gyNjQuaHRtbCAtIG9wdGlvbnM6IGNhYmFjPTEgcmVmPTMgZGVibG9jaz0xOjA6MCBhbmFs\n",
       "eXNlPTB4MzoweDExMyBtZT1oZXggc3VibWU9NyBwc3k9MSBwc3lfcmQ9MS4wMDowLjAwIG1peGVk\n",
       "X3JlZj0xIG1lX3JhbmdlPTE2IGNocm9tYV9tZT0xIHRyZWxsaXM9MSA4eDhkY3Q9MSBjcW09MCBk\n",
       "ZWFkem9uZT0yMSwxMSBmYXN0X3Bza2lwPTEgY2hyb21hX3FwX29mZnNldD0tMiB0aHJlYWRzPTYg\n",
       "bG9va2FoZWFkX3RocmVhZHM9MSBzbGljZWRfdGhyZWFkcz0wIG5yPTAgZGVjaW1hdGU9MSBpbnRl\n",
       "cmxhY2VkPTAgYmx1cmF5X2NvbXBhdD0wIGNvbnN0cmFpbmVkX2ludHJhPTAgYmZyYW1lcz0zIGJf\n",
       "cHlyYW1pZD0yIGJfYWRhcHQ9MSBiX2JpYXM9MCBkaXJlY3Q9MSB3ZWlnaHRiPTEgb3Blbl9nb3A9\n",
       "MCB3ZWlnaHRwPTIga2V5aW50PTI1MCBrZXlpbnRfbWluPTI1IHNjZW5lY3V0PTQwIGludHJhX3Jl\n",
       "ZnJlc2g9MCByY19sb29rYWhlYWQ9NDAgcmM9Y3JmIG1idHJlZT0xIGNyZj0yMy4wIHFjb21wPTAu\n",
       "NjAgcXBtaW49MCBxcG1heD02OSBxcHN0ZXA9NCBpcF9yYXRpbz0xLjQwIGFxPTE6MS4wMACAAAAF\n",
       "oWWIhAAn//71sXwKasnzigzoMi7hlyTJrrYi4m0AwAAAAwAAAwAAMPurzljKllP2AAADAEGAEHaj\n",
       "gbGvxAFM4dIdwb/+dNDe5WLqN2FwAjYavG9UqzML80aD6Mkvld31YulNIkTOwAJnJKGcbi+OVFmr\n",
       "vOiWF7DjGxMmsE+2XdSXCP1wxPlDEhAOVn9a3Ifq/Cg0Rb3+rlYwLXXMhNCkvFCTKYxfqKRCX3v+\n",
       "SbHJNWwuv13pq2tVO+lwYEBUQk/dV6LaKOjwZwsk2u1ACPlNHqCvLvD3tEJw32Gpf07qfD1Rsxuu\n",
       "zgNsJBI6vVZbihs1MG1+QX2YQafcwLDNIdgYlLuHQCv5+TVCiIdRNTlSJLuzwuDaHiTTsgQi5l11\n",
       "SWR0UR8S/q8jEyNhB0kJjeRZb3EGHwY6stP6jFPc10xiwAe7mWfxZN9Zs4rGiN7MgZR29oeUXxTg\n",
       "AO8FO9BQWQuc3l1ZkLcMhGyG6HtWFzg+oDKRQAX5EgQL7q5QeISV//rVIH8FXUM1MmfwwxtRLnRl\n",
       "qe5SraaXMuAAAl+thJrAvvYuRNvc+Coz58gR991Pe1Afid+ANwGW00kFyfmKCigzkRgAbOgVpe4e\n",
       "j6HW4g5TmxCZXJqmjR5Q79He6IydVGzugGSIRnOBzfdaDL6jSAAAPwO7XZYA/AFD+h2KNq7PdAkz\n",
       "Rv1Oggqe9o11Nl1VckctrVT+FdwXLgnfb5ZGQOYjnO9Z/eeLIxyqQ3i90oVlSTP8SP9fqVkzyr2Z\n",
       "3mUoUIubIbyTRUEAU+aFpUu7WqzjXzKYpg9y6XYKcmLB/D4czq2Sy5JKUpJpnnV3LUz1Gb5qoBEN\n",
       "bb4aeHpE6wkwb16rImtodq3u4qsau5Do/04Ub4WXPaWtbTeVxwFNPhT5CFQKGF8kXQnACB/Vvw1h\n",
       "sJZJvo+5mJxYh37oXebAdOtvTjxGW7NhasGoDreRcN6EEV6Ih1QoLNCH6ZzD6qkJPEyf4kTv4QLo\n",
       "Gztcq3kiLuZERWHYESIgGkXU37ujWGF/gLSQ9mGtE7Gywd+jBcVmM5DrKxN6dyntgAeCcIBsAAwA\n",
       "k1cn7dGKL4ErKP1vyV5fIsIMx7/DUt8gI98vPZ2bQVWvif0rq9Vd5GlnoE0FMWrOWcuvup6CCtWE\n",
       "2KyaFzh5Fph7xwo6rZ9zBvlxQiR30P1RsADWFW4hK1LBYcriXl7SbzFg7TaT066E3j9O/4zOIPki\n",
       "LnCabd6Lz40rv5dF1ly+H/geED4Wd/oItHTz7NfJYcpDm8eW0QS/HsKjO0KUh3kv19NvJMJXDrN8\n",
       "Gj0w1vS0dRsNFRzMQgtiUaA+Aw4o+T05KQ9dDq4oNj6zYg+B+fbT572SYXkr8bKF8rC4hKJGjFcT\n",
       "t01BWeQwkR0eIRiFS6+jTd4xgPA6VyUAqqIB8JQf64Jd5ZggcYByQ5dPM0r8k3pDQWM9OfY5blcK\n",
       "lY6uNip59O1phwy+bIN1/lPegu+r0r2ledTln/zH3FCTzm7IG4DaJZuRUsLtu5ejC6qB73DihOLR\n",
       "2Bb+/2RjUh6tFb9m8OqZYTiv1/x/blSA4XpQ15whakoM5PWnhDjWoOjaJaJyIheCdMB5v/HImKSi\n",
       "5NGy29LTfP+P8tVXMakM8ODf2eHDZzflHWSePLZnSfZlXyqHwldW94L6AJTqNYygb+5TctujAxGk\n",
       "Slqskv1tL1pA7AlsNviNkWQM3DJzsgNEJxw30eImrVebQFg4a1KXbSXN496CGtsmVczefOLsyRZf\n",
       "zej8JSfm0QbOl8G0K52NN17LiWDWF32/2Aa7uw3NNyc89sMtJQ01cop5pxdnXhvwDP4L1YQ6UXJB\n",
       "RK7Zk6yD/mAGRO6ysABs4DnKUdwnGov+Hwhj9yVC/jv0NvF85NCelbKFztKoqwNZaHfWQrck+2GO\n",
       "94AAAzdyfG6CJpgAAAMAmoEAAAAyQZokbEI//eEAAAMAAAMA6O5BZi36R5q5qcoZrrXUvmIiZFAE\n",
       "go7QKaUi2JljhSKI2hwAAAAaQZ5CeI3/AAADAAADAA58nJJMHuLbIEFFm4EAAAAdAZ5hdEX/AAAD\n",
       "AAAHGhP9hdXt5wt1eX/HL7O+zD8AAAAUAZ5jakX/AAADAAADABJWI+sbc08AAAAXQZpoSahBaJlM\n",
       "CN/6WAAAAwAAAwAAnYEAAAATQZ6GRREsbwAAAwAAAwAIbQldoQAAAA8BnqV0Rf8AAAMAAAMAARcA\n",
       "AAAPAZ6nakX/AAADAAADAAEXAAAAF0GaqUmoQWyZTAi/+lgAAAMAAAMAAJ2AAAADqm1vb3YAAABs\n",
       "bXZoZAAAAAAAAAAAAAAAAAAAA+gAAABkAAEAAAEAAAAAAAAAAAAAAAABAAAAAAAAAAAAAAAAAAAA\n",
       "AQAAAAAAAAAAAAAAAAAAQAAAAAAAAAAAAAAAAAAAAAAAAAAAAAAAAAAAAAAAAAIAAALUdHJhawAA\n",
       "AFx0a2hkAAAAAwAAAAAAAAAAAAAAAQAAAAAAAABkAAAAAAAAAAAAAAAAAAAAAAABAAAAAAAAAAAA\n",
       "AAAAAAAAAQAAAAAAAAAAAAAAAAAAQAAAAAKAAAAB4AAAAAAAJGVkdHMAAAAcZWxzdAAAAAAAAAAB\n",
       "AAAAZAAAAQAAAQAAAAACTG1kaWEAAAAgbWRoZAAAAAAAAAAAAAAAAAAAMgAAAAUAVcQAAAAAAC1o\n",
       "ZGxyAAAAAAAAAAB2aWRlAAAAAAAAAAAAAAAAVmlkZW9IYW5kbGVyAAAAAfdtaW5mAAAAFHZtaGQA\n",
       "AAABAAAAAAAAAAAAAAAkZGluZgAAABxkcmVmAAAAAAAAAAEAAAAMdXJsIAAAAAEAAAG3c3RibAAA\n",
       "ALdzdHNkAAAAAAAAAAEAAACnYXZjMQAAAAAAAAABAAAAAAAAAAAAAAAAAAAAAAKAAeAASAAAAEgA\n",
       "AAAAAAAAAQAAAAAAAAAAAAAAAAAAAAAAAAAAAAAAAAAAAAAAAAAAABj//wAAADVhdmNDAWQAIP/h\n",
       "ABhnZAAgrNlAoD2hAAADAAEAAAMAyA8YMZYBAAZo6+PLIsD9+PgAAAAAHHV1aWRraEDyXyRPxbo5\n",
       "pRvPAyPzAAAAAAAAABhzdHRzAAAAAAAAAAEAAAAKAAAAgAAAABRzdHNzAAAAAAAAAAEAAAABAAAA\n",
       "YGN0dHMAAAAAAAAACgAAAAEAAAEAAAAAAQAAAoAAAAABAAABAAAAAAEAAAAAAAAAAQAAAIAAAAAB\n",
       "AAACgAAAAAEAAAEAAAAAAQAAAAAAAAABAAAAgAAAAAEAAAEAAAAAHHN0c2MAAAAAAAAAAQAAAAEA\n",
       "AAAKAAAAAQAAADxzdHN6AAAAAAAAAAAAAAAKAAAIVwAAADYAAAAeAAAAIQAAABgAAAAbAAAAFwAA\n",
       "ABMAAAATAAAAGwAAABRzdGNvAAAAAAAAAAEAAAAwAAAAYnVkdGEAAABabWV0YQAAAAAAAAAhaGRs\n",
       "cgAAAAAAAAAAbWRpcmFwcGwAAAAAAAAAAAAAAAAtaWxzdAAAACWpdG9vAAAAHWRhdGEAAAABAAAA\n",
       "AExhdmY2MC4xNi4xMDA=\n",
       "\">\n",
       "  Your browser does not support the video tag.\n",
       "</video>"
      ],
      "text/plain": [
       "<IPython.core.display.HTML object>"
      ]
     },
     "execution_count": 22,
     "metadata": {},
     "output_type": "execute_result"
    },
    {
     "data": {
      "image/png": "[encoded data removed]",
      "text/plain": [
       "<Figure size 640x480 with 1 Axes>"
      ]
     },
     "metadata": {},
     "output_type": "display_data"
    }
   ],
   "source": [
    "# Time / space parameters\n",
    "size = 50\n",
    "steps = 10\n",
    "\n",
    "# Initialize lattice\n",
    "seeds = np.array([(49, 25)])\n",
    "lattice = dm.init_lattice(size, seeds)\n",
    "\n",
    "# Initialize particles\n",
    "particle_density = 0.1\n",
    "particles = dm.init_particles(lattice, particle_density)\n",
    "\n",
    "# Arrays for storing time frames\n",
    "lattice_frames = np.empty((steps, size, size))\n",
    "particles_frames = np.empty_like(lattice_frames)\n",
    "\n",
    "current_lattice = np.array(lattice)\n",
    "current_particles = np.array(particles)\n",
    "for step in range(steps):\n",
    "    \n",
    "    # Record current state\n",
    "    lattice_frames[step] = np.array(current_lattice)\n",
    "    particles_frames[step] = dm.particles_to_lattice(current_particles, size)\n",
    "\n",
    "    # Move particles\n",
    "    current_particles = dm.move_particles_diffuse(current_particles, current_lattice, periodic=(True, True))\n",
    "\n",
    "    # Aggregate particles\n",
    "    current_lattice, current_particles = dm.aggregate_particles(current_particles, current_lattice, None)\n",
    "    # print(f\"step {step}: {current_lattice}\")\n",
    "\n",
    "vt.animate_lattice_2D(lattice_frames, interval=10)"
   ]
  }
 ],
 "metadata": {
  "kernelspec": {
   "display_name": "my-env",
   "language": "python",
   "name": "python3"
  },
  "language_info": {
   "codemirror_mode": {
    "name": "ipython",
    "version": 3
   },
   "file_extension": ".py",
   "mimetype": "text/x-python",
   "name": "python",
   "nbconvert_exporter": "python",
   "pygments_lexer": "ipython3",
   "version": "3.12.0"
  }
 },
 "nbformat": 4,
 "nbformat_minor": 2
}
