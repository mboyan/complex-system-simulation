{
 "cells": [
  {
   "cell_type": "markdown",
   "metadata": {},
   "source": [
    "# Complex System Simulation: Corals and Flows\n",
    "#### _Group 12: Esther Bakels (12362980), Loes Bijman (15211312), Aleksandar Jacimovic (), Boyan Mihaylov (15067602)_"
   ]
  },
  {
   "cell_type": "markdown",
   "metadata": {},
   "source": [
    "## 1. Imports / Preliminaries"
   ]
  },
  {
   "cell_type": "code",
   "execution_count": null,
   "metadata": {},
   "outputs": [],
   "source": [
    "import matplotlib.pyplot as plt\n",
    "import numpy as np\n",
    "\n",
    "import vis_tools as vt\n",
    "import dla_model as dm\n",
    "from importlib import reload"
   ]
  },
  {
   "cell_type": "markdown",
   "metadata": {},
   "source": [
    "## 2. Flow Functions"
   ]
  },
  {
   "cell_type": "code",
   "execution_count": null,
   "metadata": {},
   "outputs": [],
   "source": [
    "# Reload modules\n",
    "reload(vt)\n",
    "reload(dm)"
   ]
  },
  {
   "cell_type": "code",
   "execution_count": null,
   "metadata": {},
   "outputs": [],
   "source": [
    "# Time / space parameters\n",
    "size = 50\n",
    "steps = 1000\n",
    "gravity = True\n",
    "bottom = size - 1\n",
    "Moore = False\n",
    "obstacle = False\n",
    "\n",
    "# Initialize lattice\n",
    "seeds = np.array([(bottom, int(size/2))])\n",
    "lattice = dm.init_lattice(size, seeds)\n",
    "\n",
    "# initialize obstacle lattice\n",
    "if obstacle:\n",
    "    obstacle = dm.init_obstacle_lattice(size, seeds, rectangle=[15,17, 19,35])\n",
    "\n",
    "# Initialize particles\n",
    "particle_density = 0.1\n",
    "particles = dm.init_particles(lattice, particle_density, gravity = gravity, obstacle=obstacle)\n",
    "\n",
    "# Arrays for storing time frames\n",
    "lattice_frames = np.empty((steps, size, size))\n",
    "particles_frames = np.empty_like(lattice_frames)\n",
    "\n",
    "current_lattice = np.array(lattice)\n",
    "current_particles = np.array(particles)\n",
    "for step in range(steps):\n",
    "    \n",
    "    # Record current state\n",
    "    lattice_frames[step] = np.array(current_lattice)\n",
    "    particles_frames[step] = dm.particles_to_lattice(current_particles, size)\n",
    "\n",
    "    # Move particles\n",
    "    current_particles = dm.move_particles_diffuse(current_particles, current_lattice, moore=Moore, gravity = gravity, obstacle=obstacle)\n",
    "\n",
    "    # Aggregate particles\n",
    "    current_lattice, current_particles = dm.aggregate_particles(current_particles, current_lattice, None, moore=Moore, obstacle=obstacle)\n",
    "    # print(f\"step {step}: {current_lattice}\")\n",
    "\n",
    "vt.animate_lattice_2D((lattice_frames*5 + particles_frames + obstacle*2)/8, interval=10)"
   ]
  }
 ],
 "metadata": {
  "kernelspec": {
   "display_name": "my-env",
   "language": "python",
   "name": "python3"
  },
  "language_info": {
   "codemirror_mode": {
    "name": "ipython",
    "version": 3
   },
   "file_extension": ".py",
   "mimetype": "text/x-python",
   "name": "python",
   "nbconvert_exporter": "python",
   "pygments_lexer": "ipython3",
   "version": "3.10.13"
  }
 },
 "nbformat": 4,
 "nbformat_minor": 2
}
