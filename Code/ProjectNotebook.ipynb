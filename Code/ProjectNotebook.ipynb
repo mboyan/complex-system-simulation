{
 "cells": [
  {
   "cell_type": "markdown",
   "metadata": {},
   "source": [
    "# Catching the Drift:<br/>Modelling Coral Growth with Diffusion Limited Aggregation (DLA)\n",
    "#### _Group 12: Esther Bakels (12362980), Loes Bijman (15211312), Aleksandar Jacimovic (15278247), Boyan Mihaylov (15067602)_"
   ]
  },
  {
   "cell_type": "markdown",
   "metadata": {},
   "source": [
    "This notebook contains the code for the conducted experiments with simulated DLA \"coral\" clusters. Section 2 exemplifies the use of the simulation tool by introducing a simple procedure to execute simulations with various parameters. The measurements of the fractal dimension and the branching distribution of a DLA cluster are demonstrated in sections 3 and 4, respectively. Section 5 illustrates the specific experimental setups which were used for the presented results. Section 6 is used to analyse the results of these experiments and section 7 "
   ]
  },
  {
   "cell_type": "markdown",
   "metadata": {},
   "source": [
    "## 1. Imports / Preliminaries"
   ]
  },
  {
   "cell_type": "markdown",
   "metadata": {},
   "source": [
    "The "
   ]
  },
  {
   "cell_type": "code",
   "execution_count": null,
   "metadata": {},
   "outputs": [],
   "source": [
    "# Import packages\n",
    "import numpy as np\n",
    "import pandas as pd\n",
    "\n",
    "# Import custom modules\n",
    "import vis_tools as vt\n",
    "import dla_model as dm\n",
    "import dla_simulation as ds\n",
    "import cs_measures as csm\n",
    "\n",
    "from importlib import reload"
   ]
  },
  {
   "cell_type": "code",
   "execution_count": null,
   "metadata": {},
   "outputs": [],
   "source": [
    "# Reload modules\n",
    "reload(vt)\n",
    "reload(dm)\n",
    "reload(ds)\n",
    "reload(csm)"
   ]
  },
  {
   "cell_type": "markdown",
   "metadata": {},
   "source": [
    "## 2. Basic DLA Model"
   ]
  },
  {
   "cell_type": "code",
   "execution_count": null,
   "metadata": {},
   "outputs": [],
   "source": [
    "# Time / space parameters\n",
    "size = 64\n",
    "steps = 1000\n",
    "Moore = False\n",
    "periodic = (False, False)\n",
    "\n",
    "# Environment parameters\n",
    "obstacle = None\n",
    "drift_vec = [-0.1, -0.5]\n",
    "sun_vec = [0, -1]\n",
    "n_seeds = 1\n",
    "\n",
    "# Initialize lattice\n",
    "seeds = dm.init_seeds_bottom(size, n_seeds)\n",
    "lattice = dm.init_lattice(size, seeds)\n",
    "\n",
    "# Initialize obstacle lattice\n",
    "if obstacle is not None:\n",
    "    boxes = np.array([[15,17,19,35,10,20], [40,45,50,55,60,55]])\n",
    "    obstacle = dm.init_obstacle_lattice(size, boxes=boxes, seed_coords=seeds)\n",
    "\n",
    "# Initialize particles\n",
    "particle_density = 0.1\n",
    "particles = dm.init_particles(lattice, particle_density, obstacles=obstacle)\n",
    "\n",
    "# Arrays for storing time frames\n",
    "lattice_frames = np.empty((steps, size, size))\n",
    "particles_frames = np.empty_like(lattice_frames)\n",
    "\n",
    "current_lattice = np.array(lattice)\n",
    "current_particles = np.array(particles)\n",
    "for step in range(steps):\n",
    "    \n",
    "    # Record current state\n",
    "    lattice_frames[step] = np.array(current_lattice)\n",
    "    particles_frames[step] = dm.particles_to_lattice(current_particles, size)\n",
    "\n",
    "    # Move particles\n",
    "    current_particles = dm.move_particles_diffuse(current_particles, current_lattice, periodic=periodic, moore=Moore, obstacles=obstacle, drift_vec=drift_vec, regen_bndry=False)\n",
    "\n",
    "    # Aggregate particles\n",
    "    current_lattice, current_particles = dm.aggregate_particles(current_particles, current_lattice, None, moore=Moore, obstacles=obstacle, sun_vec=sun_vec, multi_seed=True)\n",
    "    # print(f\"step {step}: {current_lattice}\")\n",
    "\n",
    "# Animate DLA cluster\n",
    "# vt.animate_lattice(lattice_frames, interval=10)\n",
    "    \n",
    "# Animate DLA cluster with particles\n",
    "vt.animate_lattice((lattice_frames*5 + particles_frames)/6, interval=10)\n",
    "\n",
    "# Animate DLA cluster with particles and obstacles\n",
    "# vt.animate_lattice((lattice_frames*5 + particles_frames + obstacle*2)/8, interval=10)\n",
    "\n",
    "# Plot final frame only\n",
    "# vt.plot_lattice(lattice_frames[-1], cell_size=2)"
   ]
  },
  {
   "cell_type": "markdown",
   "metadata": {},
   "source": [
    "## 3. Fractal Dimension"
   ]
  },
  {
   "cell_type": "code",
   "execution_count": null,
   "metadata": {},
   "outputs": [],
   "source": [
    "# Reload modules\n",
    "reload(csm)\n",
    "reload(vt)"
   ]
  },
  {
   "cell_type": "code",
   "execution_count": null,
   "metadata": {},
   "outputs": [],
   "source": [
    "fractal_dims, scales, n_boxes, coeffs = csm.fractal_dimension_clusters(current_lattice, fit=True)\n",
    "\n",
    "vt.plot_fractal_dimension(scales, n_boxes, coeffs)"
   ]
  },
  {
   "cell_type": "markdown",
   "metadata": {},
   "source": [
    "## 4. Branch Distribution"
   ]
  },
  {
   "cell_type": "code",
   "execution_count": null,
   "metadata": {},
   "outputs": [],
   "source": [
    "reload(csm)\n",
    "reload(vt)"
   ]
  },
  {
   "cell_type": "code",
   "execution_count": null,
   "metadata": {},
   "outputs": [],
   "source": [
    "branch_lengths_unique, branch_length_counts, branches = csm.branch_distribution(current_lattice, seeds[0])\n",
    "vt.plot_lattice(current_lattice, branches)\n",
    "vt.plot_branch_length_distribution(branch_lengths_unique, branch_length_counts, branches)"
   ]
  },
  {
   "cell_type": "markdown",
   "metadata": {},
   "source": [
    "## 5. Simulation Series"
   ]
  },
  {
   "cell_type": "markdown",
   "metadata": {},
   "source": [
    "With all the foundations laid out, a series of simulations can be performed to explore the complex system measures outlined above. On one hand, this may lead to valuable insights on the behaviour of the algorithm itself. Secondly, a potential comparison of the results with real measurement data from coral shapes can be used for verification. Finally, if a morphological correspondence is found, the variation of the simulation parameters can be used to model actual variations in the environmental conditions of a coral.\n",
    "\n",
    "A typical experiment usually requires a range of values to be defined for each parameter of interest. These parameter ranges, constructed as instances of `numpy.ndarray`, are brought together in any possible combination using `itertools.product` and the simulation framework iterates through each of these combinations, typically executing 30 simulations per combination as determined by the `n_sims` parameter.\n",
    "\n",
    "Previous tests have shown that most of the simulations require less than half an hour to run. Should this not be the case, an easy solution would be to reduce the number of simulations per parameter combination `n_sims` to a manageable amount.\n",
    "\n",
    "There are two types of termination conditions - a maximum of time steps per simulation and a target DLA cluster mass to be achieved. In order to have comparable measurements, it is normally advisable to fulfill the target mass condition before running out of time steps; otherwise, if such an event occurs, a warning is raised. A potential future development could determine an analytical derivation of the relationship between a target mass and the required number of time steps before it is reached. The analysis of mass growth over time included in these numerical studies may in fact point toward trends in this respect."
   ]
  },
  {
   "cell_type": "code",
   "execution_count": null,
   "metadata": {},
   "outputs": [],
   "source": [
    "# Reload modules\n",
    "reload(dm)\n",
    "reload(ds)\n",
    "reload(csm)\n",
    "reload(vt)"
   ]
  },
  {
   "cell_type": "markdown",
   "metadata": {},
   "source": [
    "### 5.1. Lattice Dimensions / Neighbourhood Types"
   ]
  },
  {
   "cell_type": "markdown",
   "metadata": {},
   "source": [
    "The first set of experiments are exploring the basic \"world\" parameters of the DLA model - the size and dimensions of the lattice and the type of neighbourhood for the perturbation and aggregation procedures. First, some common parameters shared among all simulations can be defined, as these will contain a single value and are of less importance for this initial study.\n",
    "\n",
    "All of the following simulations start from a single seed and a limited budget of nutrients which expires throughout the simulation, hence `regen_mode` is set to `False`. All the relevant measures are recorded and the lattice space is defined as non-periodic in all dimensions, with particles being regenerated probabilistically at specific edges when they leave the bounds of the lattice, as opposed to wrapping around the grid."
   ]
  },
  {
   "cell_type": "code",
   "execution_count": null,
   "metadata": {},
   "outputs": [],
   "source": [
    "# Shared environment parameters\n",
    "n_seeds_series = np.repeat(int(1), 1)\n",
    "particle_density_series = np.array([0.1])\n",
    "obstacle_box_series = np.array([None])\n",
    "\n",
    "# Shared simulation parameters\n",
    "fdim_measure = 'both' # fractal dimension, can be None / 'cgrain' / 'radius' / 'both\n",
    "calc_branch_distr = True\n",
    "calc_mass = True\n",
    "periodic = (False, False)\n",
    "regen_mode = None"
   ]
  },
  {
   "cell_type": "markdown",
   "metadata": {},
   "source": [
    "#### 5.1.1. 2D / von Neumann"
   ]
  },
  {
   "cell_type": "markdown",
   "metadata": {},
   "source": [
    "The first experiment looks into a relatively large two-dimensional lattice ($256\\times 256$) and a von Neumann neighbourhood (i.e. 4 neighbours). The target DLA cluster mass is set to $5\\%$ of the entire lattice area. The dimensions of the lattice are implied by the dimensions of the input drift and sun vectors."
   ]
  },
  {
   "cell_type": "code",
   "execution_count": null,
   "metadata": {},
   "outputs": [],
   "source": [
    "# Define environment parameter series (2D setup)\n",
    "lattice_size_series = np.array([256])\n",
    "max_timesteps_series = np.array([5000])\n",
    "target_mass_series = np.array([int(0.05 * lattice_size_series[0]**2)])\n",
    "drift_vec_series = np.array([[0, -1]])\n",
    "sun_vec_series = np.array([[0, -1]])\n",
    "\n",
    "# Define fixed simulation parameters\n",
    "move_moore = False\n",
    "aggr_moore = False\n",
    "\n",
    "# Run simulations\n",
    "n_sims = 30\n",
    "sim_results, dla_evolutions = ds.analyse_dla_patterns(n_sims, lattice_size_series, max_timesteps_series, n_seeds_series, particle_density_series, target_mass_series,\n",
    "                                                      obstacle_box_series=obstacle_box_series, drift_vec_series=drift_vec_series, sun_vec_series=sun_vec_series,\n",
    "                                                      fdim_measure=fdim_measure, calc_branch_distr=calc_branch_distr, calc_mass=calc_mass,\n",
    "                                                      n_saved_sims=1, periodic=periodic, move_moore=move_moore, aggr_moore=aggr_moore, regen_mode=regen_mode)\n",
    "\n",
    "vt.plot_lattice(dla_evolutions['lattice_frames'][0][-1], cell_size=2)\n",
    "\n",
    "sim_results"
   ]
  },
  {
   "cell_type": "markdown",
   "metadata": {},
   "source": [
    "The results can be saved to a `.json` file for later use."
   ]
  },
  {
   "cell_type": "code",
   "execution_count": null,
   "metadata": {},
   "outputs": [],
   "source": [
    "sim_results.to_json('sim_results_2D_von_neumann.json')"
   ]
  },
  {
   "cell_type": "markdown",
   "metadata": {},
   "source": [
    "#### 5.1.2. 2D / Moore"
   ]
  },
  {
   "cell_type": "markdown",
   "metadata": {},
   "source": [
    "The second experiment explores the same lattice size and dimensions, this time with a Moore neighbourhood (8 neighbours)."
   ]
  },
  {
   "cell_type": "code",
   "execution_count": null,
   "metadata": {},
   "outputs": [],
   "source": [
    "# Define environment parameter series (2D setup)\n",
    "lattice_size_series = np.array([256])\n",
    "max_timesteps_series = np.array([5000])\n",
    "target_mass_series = np.array([int(0.05 * lattice_size_series[0]**2)])\n",
    "drift_vec_series = np.array([[0, -1]])\n",
    "sun_vec_series = np.array([[0, -1]])\n",
    "\n",
    "# Define fixed simulation parameters\n",
    "move_moore = True\n",
    "aggr_moore = True\n",
    "\n",
    "# Run simulations\n",
    "n_sims = 30\n",
    "sim_results, dla_evolutions = ds.analyse_dla_patterns(n_sims, lattice_size_series, max_timesteps_series, n_seeds_series, particle_density_series, target_mass_series,\n",
    "                                                      obstacle_box_series=obstacle_box_series, drift_vec_series=drift_vec_series, sun_vec_series=sun_vec_series,\n",
    "                                                      fdim_measure=fdim_measure, calc_branch_distr=calc_branch_distr, calc_mass=calc_mass,\n",
    "                                                      n_saved_sims=1, periodic=periodic, move_moore=move_moore, aggr_moore=aggr_moore, regen_mode=regen_mode)\n",
    "\n",
    "vt.plot_lattice(dla_evolutions['lattice_frames'][0][-1], cell_size=1)\n",
    "\n",
    "sim_results"
   ]
  },
  {
   "cell_type": "code",
   "execution_count": null,
   "metadata": {},
   "outputs": [],
   "source": [
    "sim_results.to_json('sim_results_2D_moore.json')"
   ]
  },
  {
   "cell_type": "markdown",
   "metadata": {},
   "source": [
    "#### 5.1.3. 3D / von Neumann"
   ]
  },
  {
   "cell_type": "markdown",
   "metadata": {},
   "source": [
    "Taking the step into three dimensions, the lattice size needs to be reduced to 64 due to memory allocation constraints. The next experiment explores a von Neumann neighbourhood on a 3D lattice, aiming for a target mass of $2.5\\%$ of the total lattice volume."
   ]
  },
  {
   "cell_type": "code",
   "execution_count": null,
   "metadata": {},
   "outputs": [],
   "source": [
    "reload(ds)\n",
    "reload(dm)"
   ]
  },
  {
   "cell_type": "code",
   "execution_count": null,
   "metadata": {},
   "outputs": [],
   "source": [
    "# Define environment parameter series (3D setup)\n",
    "lattice_size_series = np.array([64])\n",
    "max_timesteps_series = np.array([12000])\n",
    "target_mass_series = np.array([int(0.025 * lattice_size_series[0]**3)])\n",
    "drift_vec_series = np.array([[0, 0, -1]])\n",
    "sun_vec_series = np.array([[0, 0, -1]])\n",
    "\n",
    "# Define fixed simulation parameters\n",
    "move_moore = False\n",
    "aggr_moore = False\n",
    "\n",
    "# Run simulations\n",
    "n_sims = 1\n",
    "sim_results, dla_evolutions = ds.analyse_dla_patterns(n_sims, lattice_size_series, max_timesteps_series, n_seeds_series, particle_density_series, target_mass_series,\n",
    "                                                      obstacle_box_series=obstacle_box_series, drift_vec_series=drift_vec_series, sun_vec_series=sun_vec_series,\n",
    "                                                      fdim_measure=fdim_measure, calc_branch_distr=calc_branch_distr, calc_mass=calc_mass,\n",
    "                                                      n_saved_sims=1, periodic=periodic, move_moore=move_moore, aggr_moore=aggr_moore, regen_mode=regen_mode)\n",
    "\n",
    "vt.plot_lattice(dla_evolutions['lattice_frames'][0][-1], cell_size=1)\n",
    "\n",
    "sim_results"
   ]
  },
  {
   "cell_type": "code",
   "execution_count": null,
   "metadata": {},
   "outputs": [],
   "source": [
    "sim_results.to_json('sim_results_3D_von_neumann.json')"
   ]
  },
  {
   "cell_type": "markdown",
   "metadata": {},
   "source": [
    "#### 5.1.4. 3D / Moore"
   ]
  },
  {
   "cell_type": "markdown",
   "metadata": {},
   "source": [
    "Finally, the same setup is used under a Moore neighbourhood principle."
   ]
  },
  {
   "cell_type": "code",
   "execution_count": null,
   "metadata": {},
   "outputs": [],
   "source": [
    "# Define environment parameter series (3D setup)\n",
    "lattice_size_series = np.array([64])\n",
    "max_timesteps_series = np.array([12000])\n",
    "target_mass_series = np.array([int(0.025 * lattice_size_series[0]**3)])\n",
    "drift_vec_series = np.array([[0, 0, -1]])\n",
    "sun_vec_series = np.array([[0, 0, -1]])\n",
    "\n",
    "# Define fixed simulation parameters\n",
    "move_moore = True\n",
    "aggr_moore = True\n",
    "\n",
    "# Run simulations\n",
    "n_sims = 30\n",
    "sim_results, dla_evolutions = ds.analyse_dla_patterns(n_sims, lattice_size_series, max_timesteps_series, n_seeds_series, particle_density_series, target_mass_series,\n",
    "                                                      obstacle_box_series=obstacle_box_series, drift_vec_series=drift_vec_series, sun_vec_series=sun_vec_series,\n",
    "                                                      fdim_measure=fdim_measure, calc_branch_distr=calc_branch_distr, calc_mass=calc_mass,\n",
    "                                                      n_saved_sims=1, periodic=periodic, move_moore=move_moore, aggr_moore=aggr_moore, regen_mode=regen_mode)\n",
    "\n",
    "sim_results"
   ]
  },
  {
   "cell_type": "code",
   "execution_count": null,
   "metadata": {},
   "outputs": [],
   "source": [
    "sim_results.to_json('sim_results_3D_moore.json')"
   ]
  },
  {
   "cell_type": "markdown",
   "metadata": {},
   "source": [
    "### 5.2. Environmental Parameters"
   ]
  },
  {
   "cell_type": "markdown",
   "metadata": {},
   "source": [
    "The following series of simulations focus on the effect of varying environmental parameters (drift vector, sun vector, nutrient density) on the morphological features of the simulated coral. As the possible parameter combinations are countless, we decided to structure this exploration into four separate experiments, each one exploring the variation in a particular parameter while keeping the others fixed or confined within a narrower range.\n",
    "\n",
    "The parameters of interest in this case are:\n",
    "- The magnitude of the sun vector $|\\vec{s}|$ - influencing how much the growth is biased towards the direction of the sun;\n",
    "- The magnitude of the drift vector $|\\vec{d}|$ - influencing how much the Random Walk of the particles (nutrients) is biased in a specific direction;\n",
    "- The angle of the drift vector $\\theta_d$ - influencing the direction of the Random Walk bias, particularly in relation to the sun vector;\n",
    "- The density of particles (nutrients) $p$.\n",
    "\n",
    "For a more realistic setting, the nutrients do not expire as in the previous experiment but are rather regenerated at the edges in amounts needed to compensate the predefined particle density."
   ]
  },
  {
   "cell_type": "code",
   "execution_count": null,
   "metadata": {},
   "outputs": [],
   "source": [
    "reload(ds)\n",
    "reload(dm)"
   ]
  },
  {
   "cell_type": "markdown",
   "metadata": {},
   "source": [
    "#### 5.2.1. Varying Sun Vector Magnitude"
   ]
  },
  {
   "cell_type": "markdown",
   "metadata": {},
   "source": [
    "The variation in the sun vector magnitude has the effect of altering the neighbourhood weights when determining whether a particle should attach to an occupied lattice site. Defining $\\vec{n_i}$ as a vector from a lattice site to one of its $n$ neighbours ($i=0,...,n$), the probability of attachment to a specific neighbour site is defined by normalizing the weight $w_i$ of a neighbour, resulting from the dot product with the inverse of the sun vector $\\vec{s}$:\n",
    "\n",
    "$$\n",
    "w_i = <\\vec{n_i}, -\\vec{s}> + 1\n",
    "$$\n",
    "\n",
    "Thus, a normalized sun vector pointing vertically downwards results in 0.5 probability of attachment to a top site, 0.25 probability for either of the side neighbours and 0 probability for the bottom site. If the sun vector has a small magnitude ($< 1$), adding 1 to the dot product results in a non-zero probability even for the sites which are on the \"shadow\" side of the coral. Alternatively, with an increasing sun vector magnitude, the site facing it will get an increasing dominance over the others, leading to a very directional growth.\n",
    "\n",
    "One way to interpret this magnitude is in terms of how diffuse the light is under water. Depending on the depth, refraction, murkiness or reflectiveness of the surroundings there could be coral parts growing in less illuminated regions. Alternatively, this vector could be interpreted as the dominance of zooxanthelae photosynthesis as a survival factor over the direction of incoming nutrients.\n",
    "\n",
    "The simulation is run with the following parameters:\n",
    "\n",
    "| $L$ | $t_{max}$ | $n_s$ | $p$ | $m_t$           | $\\theta_d$            | $\\|\\vec{d}\\|$ | $\\|\\vec{s}\\|$ |\n",
    "|-----|-----------|-------|-----|-----------------|-----------------------|---------------|---------------|\n",
    "| 128 | 10000     | 1     | 0.1 | $0.05\\times L^2$| $[-\\pi/2,-\\pi/4,0]$   | 0.5           |**0.01 to 100**|"
   ]
  },
  {
   "cell_type": "code",
   "execution_count": null,
   "metadata": {},
   "outputs": [],
   "source": [
    "# Define environment parameter series (2D setup)\n",
    "lattice_size_series = np.array([128])\n",
    "max_timesteps_series = np.array([9000])\n",
    "n_seeds_series = np.repeat(int(1), 1)\n",
    "particle_density_series = np.array([0.1])\n",
    "target_mass_series = np.array([0.05 * lattice_size_series[0] ** 2], dtype=int)\n",
    "obstacle_box_series = np.array([None])\n",
    "\n",
    "# Define drift and sun vector ranges\n",
    "angle_range = np.linspace(-0.5*np.pi, 0, 3)\n",
    "drift_vec_series = np.column_stack((0.5*np.cos(angle_range), 0.5*np.sin(angle_range))) # Varying angle vectors with norm 0.5\n",
    "sun_vec_series = np.column_stack((np.zeros(9), -(10.0 ** np.arange(-2, 2.5, 0.5))))  # Vertical vector with varying magnitude\n",
    "\n",
    "# Define fixed simulation parameters\n",
    "fdim_measure = 'both' # fractal dimension, can be None / 'cgrain' / 'radius' / 'both\n",
    "calc_branch_distr = True\n",
    "calc_mass = True\n",
    "periodic = (False, False, False)\n",
    "move_moore = False\n",
    "aggr_moore = False\n",
    "regen_mode = 'edge'\n",
    "\n",
    "# Run simulations\n",
    "n_sims = 30\n",
    "sim_results, dla_evolutions = ds.analyse_dla_patterns(n_sims, lattice_size_series, max_timesteps_series, n_seeds_series, particle_density_series, target_mass_series,\n",
    "                                                      drift_vec_series=drift_vec_series, sun_vec_series=sun_vec_series, obstacle_box_series=obstacle_box_series,\n",
    "                                                      fdim_measure=fdim_measure, calc_branch_distr=calc_branch_distr, calc_mass=calc_mass,\n",
    "                                                      n_saved_sims=1, periodic=periodic, move_moore=move_moore, aggr_moore=aggr_moore, regen_mode=regen_mode)\n",
    "\n",
    "sim_results"
   ]
  },
  {
   "cell_type": "code",
   "execution_count": null,
   "metadata": {},
   "outputs": [],
   "source": [
    "sim_results.to_json('sim_results_sun_vector_mag.json')"
   ]
  },
  {
   "cell_type": "markdown",
   "metadata": {},
   "source": [
    "#### 5.2.2. Varying Drift Vector Magnitude"
   ]
  },
  {
   "cell_type": "markdown",
   "metadata": {},
   "source": [
    "Analogous to the sun vector, the drift vector also affects neighbourhood probabilities based on the dot product with the neighbour vectors. This results in varying probability of perturbing the particles in either neighbour direction during their Random Walk. If the drift is strong (i.e. a magnitude >> 1), then a stronger bias will be put on the movement in that direction, completely excluding a movement in a direction opposite to the vector. Alternatively, if the magnitude is smaller than 1, the probabilities shift in a way which permits such opposing movement. For vector magnitudes approaching zero, the drift loses signifficance, equalizing the probability of moving in any direction.\n",
    "\n",
    "The drift can be used to model a combination of underwater currents and the effect of gravity on the influx of nutrients.\n",
    "\n",
    "The simulation is run with the following parameters:\n",
    "\n",
    "| $L$ | $t_{max}$ | $n_s$ | $p$ | $m_t$           |**$\\|\\vec{d}\\|$**| $\\theta_d$            | $\\|\\vec{s}\\|$ |\n",
    "|-----|-----------|-------|-----|-----------------|-----------------|-----------------------|---------------|\n",
    "| 128 | 8000      | 1     | 0.1 | $0.05\\times L^2$|**0.01 to 100**  | $-\\pi/4$              | 0.5           |"
   ]
  },
  {
   "cell_type": "code",
   "execution_count": null,
   "metadata": {},
   "outputs": [],
   "source": [
    "# Define environment parameter series (2D setup)\n",
    "lattice_size_series = np.array([128])\n",
    "max_timesteps_series = np.array([8000])\n",
    "n_seeds_series = np.repeat(int(1), 1)\n",
    "particle_density_series = np.array([0.1])\n",
    "target_mass_series = np.array([0.05 * lattice_size_series[0] ** 2], dtype=int)\n",
    "obstacle_box_series = np.array([None])\n",
    "\n",
    "# Define drift and sun vector ranges\n",
    "drift_vec_series = np.tile(- np.sqrt(0.5) * 10.0 ** np.arange(-2, 3), (2, 1)).T # Varying magnitude 45 degree vectors\n",
    "sun_vec_series = np.array([[0, -0.5]])\n",
    "\n",
    "# Define fixed simulation parameters\n",
    "fdim_measure = 'both' # fractal dimension, can be None / 'cgrain' / 'radius' / 'both\n",
    "calc_branch_distr = True\n",
    "calc_mass = True\n",
    "periodic = (False, False, False)\n",
    "move_moore = False\n",
    "aggr_moore = False\n",
    "regen_mode = 'edge'\n",
    "\n",
    "# Run simulations\n",
    "n_sims = 30\n",
    "sim_results, dla_evolutions = ds.analyse_dla_patterns(n_sims, lattice_size_series, max_timesteps_series, n_seeds_series, particle_density_series, target_mass_series,\n",
    "                                                      drift_vec_series=drift_vec_series, sun_vec_series=sun_vec_series, obstacle_box_series=obstacle_box_series,\n",
    "                                                      fdim_measure=fdim_measure, calc_branch_distr=calc_branch_distr, calc_mass=calc_mass,\n",
    "                                                      n_saved_sims=1, periodic=periodic, move_moore=move_moore, aggr_moore=aggr_moore, regen_mode=regen_mode)\n",
    "\n",
    "sim_results"
   ]
  },
  {
   "cell_type": "code",
   "execution_count": null,
   "metadata": {},
   "outputs": [],
   "source": [
    "sim_results.to_json('sim_results_drift_vector_mag.json')"
   ]
  },
  {
   "cell_type": "markdown",
   "metadata": {},
   "source": [
    "#### 5.2.3. Varying Drift Vector Angle"
   ]
  },
  {
   "cell_type": "markdown",
   "metadata": {},
   "source": [
    "The interest in exploring the variation of the drift vector angle $\\theta_d$ arises from the question: What happens if the attachment preference and the predominant arrival direction of nutrients are not aligned? By keeping the sun vector fixed and altering the drift direction, the relationship between the two driving \"forces\" acting on the growth changes, potentially affecting the simulated coral morphology.\n",
    "\n",
    "While the drift angle gradually changes from a purely vertical to a purely horizontal orientation, its magnitude is kept to 0.5, such that a non-zero probability is given to a \"backward\" motion.\n",
    "\n",
    "The simulation is run with the following parameters:\n",
    "\n",
    "| $L$ | $t_{max}$ | $n_s$ | $p$ | $m_t$           | $\\|\\vec{d}\\|$ |**$\\theta_d$**   | $\\|\\vec{s}\\|$         |\n",
    "|-----|-----------|-------|-----|-----------------|---------------|-----------------|-----------------------|\n",
    "| 128 | 8000      | 1     | 0.1 | $0.05\\times L^2$| 0.5           |**$-\\pi/2$ to 0**| 0.5                   |"
   ]
  },
  {
   "cell_type": "code",
   "execution_count": null,
   "metadata": {},
   "outputs": [],
   "source": [
    "# Define environment parameter series (2D setup)\n",
    "lattice_size_series = np.array([128])\n",
    "max_timesteps_series = np.array([8000])\n",
    "n_seeds_series = np.repeat(int(1), 1)\n",
    "particle_density_series = np.array([0.1])\n",
    "target_mass_series = np.array([0.05 * lattice_size_series[0] ** 2], dtype=int)\n",
    "obstacle_box_series = np.array([None])\n",
    "\n",
    "# Define drift and sun vector ranges\n",
    "angle_range = np.linspace(-0.5*np.pi, 0, 5)\n",
    "drift_vec_series = np.vstack((np.cos(angle_range), np.sin(angle_range))).T # Varying angle vectors with norm 1\n",
    "sun_vec_series = np.array([[0, -0.5]])\n",
    "\n",
    "# Define fixed simulation parameters\n",
    "fdim_measure = 'both' # fractal dimension, can be None / 'cgrain' / 'radius' / 'both\n",
    "calc_branch_distr = True\n",
    "calc_mass = True\n",
    "periodic = (False, False, False)\n",
    "move_moore = False\n",
    "aggr_moore = False\n",
    "regen_mode = 'edge'\n",
    "\n",
    "# Run simulations\n",
    "n_sims = 30\n",
    "sim_results, dla_evolutions = ds.analyse_dla_patterns(n_sims, lattice_size_series, max_timesteps_series, n_seeds_series, particle_density_series, target_mass_series,\n",
    "                                                      drift_vec_series=drift_vec_series, sun_vec_series=sun_vec_series, obstacle_box_series=obstacle_box_series,\n",
    "                                                      fdim_measure=fdim_measure, calc_branch_distr=calc_branch_distr, calc_mass=calc_mass,\n",
    "                                                      n_saved_sims=1, periodic=periodic, move_moore=move_moore, aggr_moore=aggr_moore, regen_mode=regen_mode)\n",
    "\n",
    "sim_results"
   ]
  },
  {
   "cell_type": "code",
   "execution_count": null,
   "metadata": {},
   "outputs": [],
   "source": [
    "sim_results.to_json('sim_results_drift_vector_angle.json')"
   ]
  },
  {
   "cell_type": "markdown",
   "metadata": {},
   "source": [
    "#### 5.2.4. Varying Nutrient Density"
   ]
  },
  {
   "cell_type": "markdown",
   "metadata": {},
   "source": [
    "The abundance of nutrient particles may affect the time for the development of a DLA cluster of a specific mass. It is also an interesting question whether a more massive influx of particles, perhaps combined with correlations caused by the limited lattice space, has any measurable effects on the simulated coral morphology. For this, a variation in the nutrient density is explored under a fixed sun magnitude of 0.5 and various drift vectors differing both in magnitude and in angle. With such a combination of parameters it is possible to explore the effect of the transport of different nutrient masses through space.\n",
    "\n",
    "The parameters are as follows:\n",
    "\n",
    "| $L$ | $t_{max}$ | $n_s$ | **p**           | $m_t$           | $\\|\\vec{d}\\|$ |$\\theta_d$       | $\\|\\vec{s}\\|$         |\n",
    "|-----|-----------|-------|-----------------|-----------------|---------------|-----------------|-----------------------|\n",
    "| 128 | 8000      | 1     |**0.025 to 0.25**| $0.05\\times L^2$| 0.01 to 100   |**$-\\pi/2$ to 0**| 0.5                   |"
   ]
  },
  {
   "cell_type": "code",
   "execution_count": null,
   "metadata": {},
   "outputs": [],
   "source": [
    "# Define environment parameter series (2D setup)\n",
    "lattice_size_series = np.array([128])\n",
    "max_timesteps_series = np.array([20000])\n",
    "n_seeds_series = np.repeat(int(1), 1)\n",
    "particle_density_series = np.linspace(0.02, 0.1, 5) # Varying nutrient density\n",
    "target_mass_series = np.array([0.05 * lattice_size_series[0] ** 2], dtype=int)\n",
    "obstacle_box_series = np.array([None])\n",
    "\n",
    "# Define drift and sun vector ranges\n",
    "drift_vec_mags = np.tile(-np.sqrt(0.5) * 10.0 ** np.arange(-2, 3), (2, 1)).T # Varying magnitude 45 degree vectors\n",
    "angle_range = np.linspace(-0.5*np.pi, 0, 3)\n",
    "drift_vec_angles = np.vstack((np.cos(angle_range), np.sin(angle_range))).T # Varying angle vectors with norm 1\n",
    "drift_vec_series = np.concatenate((drift_vec_mags, drift_vec_angles)) #  Combine both vector series\n",
    "sun_vec_series = np.array([[0, -0.5]])\n",
    "\n",
    "# Define fixed simulation parameters\n",
    "fdim_measure = 'both' # fractal dimension, can be None / 'cgrain' / 'radius' / 'both\n",
    "calc_branch_distr = True\n",
    "calc_mass = True\n",
    "periodic = (False, False, False)\n",
    "move_moore = False\n",
    "aggr_moore = False\n",
    "regen_mode = 'edge'\n",
    "\n",
    "# Run simulations\n",
    "n_sims = 30\n",
    "sim_results, dla_evolutions = ds.analyse_dla_patterns(n_sims, lattice_size_series, max_timesteps_series, n_seeds_series, particle_density_series, target_mass_series,\n",
    "                                                      drift_vec_series=drift_vec_series, sun_vec_series=sun_vec_series, obstacle_box_series=obstacle_box_series,\n",
    "                                                      fdim_measure=fdim_measure, calc_branch_distr=calc_branch_distr, calc_mass=calc_mass,\n",
    "                                                      n_saved_sims=1, periodic=periodic, move_moore=move_moore, aggr_moore=aggr_moore, regen_mode=regen_mode)\n",
    "\n",
    "sim_results"
   ]
  },
  {
   "cell_type": "code",
   "execution_count": null,
   "metadata": {},
   "outputs": [],
   "source": [
    "sim_results.to_json('sim_results_density.json')"
   ]
  },
  {
   "cell_type": "markdown",
   "metadata": {},
   "source": [
    "## 6. Analyse Simulation Results"
   ]
  },
  {
   "cell_type": "markdown",
   "metadata": {},
   "source": [
    "### 6.1. Analysing the Spatial Parameters"
   ]
  },
  {
   "cell_type": "code",
   "execution_count": null,
   "metadata": {},
   "outputs": [],
   "source": [
    "sim_results_read = np.empty(4, dtype=object)\n",
    "sim_results_read[0] = pd.read_json('results/sim_results_2D_von_neumann.json')\n",
    "sim_results_read[1] = pd.read_json('results/sim_results_2D_moore.json')\n",
    "sim_results_read[2] = pd.read_json('results/sim_results_3D_von_neumann.json')\n",
    "sim_results_read[3] = pd.read_json('results/sim_results_3D_moore.json')\n",
    "\n",
    "for sim_results in sim_results_read:\n",
    "    ds.analyse_sim_results(sim_results, dla_evolutions=None, title_on=False)"
   ]
  },
  {
   "cell_type": "markdown",
   "metadata": {},
   "source": [
    "### 6.2. Analysing the Environmental Parameters"
   ]
  },
  {
   "cell_type": "markdown",
   "metadata": {},
   "source": [
    "#### 6.2.1. Sun Vector Magnitude"
   ]
  },
  {
   "cell_type": "code",
   "execution_count": null,
   "metadata": {},
   "outputs": [],
   "source": [
    "data_sun_mag = pd.read_json('results/sim_results_sun_vector_mag.json')\n",
    "ds.plot_environmental_results('sun_vec', data_sun_mag)"
   ]
  },
  {
   "cell_type": "markdown",
   "metadata": {},
   "source": [
    "#### 6.2.2. Drift Vector Magnitude"
   ]
  },
  {
   "cell_type": "code",
   "execution_count": null,
   "metadata": {},
   "outputs": [],
   "source": [
    "data_drift_mag = pd.read_json('results/sim_results_drift_vector_mag.json')\n",
    "ds.plot_environmental_results('drift_vec', data_drift_mag)"
   ]
  },
  {
   "cell_type": "markdown",
   "metadata": {},
   "source": [
    "#### 6.2.3. Drift Vector Angle"
   ]
  },
  {
   "cell_type": "code",
   "execution_count": null,
   "metadata": {},
   "outputs": [],
   "source": [
    "data_drift_angle = pd.read_json('results/sim_results_drift_vector_angle.json')\n",
    "ds.plot_environmental_results('drift_vec', data_drift_angle, drift_vec_angle = True)"
   ]
  },
  {
   "cell_type": "markdown",
   "metadata": {},
   "source": [
    "#### 6.2.4. Nutrient Density"
   ]
  },
  {
   "cell_type": "code",
   "execution_count": null,
   "metadata": {},
   "outputs": [],
   "source": [
    "data_density = pd.read_json('results/sim_results_density.json')\n",
    "ds.plot_environmental_results('particle_density', data_density)"
   ]
  },
  {
   "cell_type": "markdown",
   "metadata": {},
   "source": [
    "## 7. Extensions"
   ]
  }
 ],
 "metadata": {
  "kernelspec": {
   "display_name": "my-env",
   "language": "python",
   "name": "python3"
  },
  "language_info": {
   "codemirror_mode": {
    "name": "ipython",
    "version": 3
   },
   "file_extension": ".py",
   "mimetype": "text/x-python",
   "name": "python",
   "nbconvert_exporter": "python",
   "pygments_lexer": "ipython3",
   "version": "3.10.9"
  }
 },
 "nbformat": 4,
 "nbformat_minor": 2
}
